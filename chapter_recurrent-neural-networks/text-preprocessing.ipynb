{
 "cells": [
  {
   "cell_type": "markdown",
   "id": "905b0c73",
   "metadata": {
    "slideshow": {
     "slide_type": "-"
    }
   },
   "source": [
    "# 文本预处理\n",
    "\n"
   ]
  },
  {
   "cell_type": "code",
   "execution_count": 1,
   "id": "0d2c1ec5",
   "metadata": {
    "execution": {
     "iopub.execute_input": "2022-12-07T16:29:39.359705Z",
     "iopub.status.busy": "2022-12-07T16:29:39.359148Z",
     "iopub.status.idle": "2022-12-07T16:29:41.546243Z",
     "shell.execute_reply": "2022-12-07T16:29:41.545411Z"
    },
    "origin_pos": 2,
    "tab": [
     "pytorch"
    ]
   },
   "outputs": [],
   "source": [
    "import collections\n",
    "import re\n",
    "from d2l import torch as d2l"
   ]
  },
  {
   "cell_type": "markdown",
   "id": "45ef1cb6",
   "metadata": {
    "slideshow": {
     "slide_type": "-"
    }
   },
   "source": [
    "将数据集读取到由多条文本行组成的列表中"
   ]
  },
  {
   "cell_type": "code",
   "execution_count": 2,
   "id": "594bcb0c",
   "metadata": {
    "execution": {
     "iopub.execute_input": "2022-12-07T16:29:41.550361Z",
     "iopub.status.busy": "2022-12-07T16:29:41.549788Z",
     "iopub.status.idle": "2022-12-07T16:29:41.719635Z",
     "shell.execute_reply": "2022-12-07T16:29:41.718824Z"
    },
    "origin_pos": 6,
    "tab": [
     "pytorch"
    ]
   },
   "outputs": [
    {
     "name": "stdout",
     "output_type": "stream",
     "text": [
      "the time machine by h g wells\n",
      "the time machine by h g wells\n",
      "twinkled and his usually pale face was flushed and animated the\n"
     ]
    }
   ],
   "source": [
    "d2l.DATA_HUB['time_machine'] = (d2l.DATA_URL + 'timemachine.txt',\n",
    "                                '090b5e7e70c295757f55df93cb0a180b9691891a')\n",
    "\n",
    "def read_time_machine():  \n",
    "    \"\"\"将时间机器数据集加载到文本行的列表中\"\"\"\n",
    "    with open(d2l.download('time_machine'), 'r') as f:\n",
    "        lines = f.readlines()\n",
    "        # 非英文字符全变为空格\n",
    "    return [re.sub('[^A-Za-z]+', ' ', line).strip().lower() for line in lines]\n",
    "\n",
    "lines = read_time_machine()\n",
    "print(f\"{lines[0]}\")\n",
    "print(lines[0])\n",
    "print(lines[10])"
   ]
  },
  {
   "cell_type": "markdown",
   "id": "186e183c",
   "metadata": {
    "slideshow": {
     "slide_type": "slide"
    }
   },
   "source": [
    "每个文本序列又被拆分成一个词元列表"
   ]
  },
  {
   "cell_type": "code",
   "execution_count": 3,
   "id": "2177cbcd",
   "metadata": {
    "execution": {
     "iopub.execute_input": "2022-12-07T16:29:41.723144Z",
     "iopub.status.busy": "2022-12-07T16:29:41.722553Z",
     "iopub.status.idle": "2022-12-07T16:29:41.731813Z",
     "shell.execute_reply": "2022-12-07T16:29:41.731033Z"
    },
    "origin_pos": 8,
    "tab": [
     "pytorch"
    ]
   },
   "outputs": [
    {
     "name": "stdout",
     "output_type": "stream",
     "text": [
      "['the', 'time', 'machine', 'by', 'h', 'g', 'wells']\n",
      "[]\n",
      "[]\n",
      "[]\n",
      "[]\n",
      "['i']\n",
      "[]\n",
      "[]\n",
      "['the', 'time', 'traveller', 'for', 'so', 'it', 'will', 'be', 'convenient', 'to', 'speak', 'of', 'him']\n",
      "['was', 'expounding', 'a', 'recondite', 'matter', 'to', 'us', 'his', 'grey', 'eyes', 'shone', 'and']\n",
      "['twinkled', 'and', 'his', 'usually', 'pale', 'face', 'was', 'flushed', 'and', 'animated', 'the']\n"
     ]
    }
   ],
   "source": [
    "def tokenize(lines, token='word'):  \n",
    "    # token的作用就是划分每个词\n",
    "    # 中文的就是划分每个字\n",
    "    \"\"\"将文本行拆分为单词或字符词元\"\"\"\n",
    "    if token == 'word':\n",
    "        return [line.split() for line in lines]\n",
    "    elif token == 'char':\n",
    "        return [list(line) for line in lines]\n",
    "    else:\n",
    "        print('错误：未知词元类型：' + token)\n",
    "\n",
    "tokens = tokenize(lines,'word')\n",
    "for i in range(11):\n",
    "    print(tokens[i])"
   ]
  },
  {
   "cell_type": "markdown",
   "id": "fff5333c",
   "metadata": {
    "slideshow": {
     "slide_type": "slide"
    }
   },
   "source": [
    "构建一个字典，通常也叫做*词表*（vocabulary），\n",
    "用来将字符串类型的词元映射到从$0$开始的数字索引中"
   ]
  },
  {
   "cell_type": "code",
   "execution_count": 4,
   "id": "702aded4",
   "metadata": {
    "execution": {
     "iopub.execute_input": "2022-12-07T16:29:41.735455Z",
     "iopub.status.busy": "2022-12-07T16:29:41.734793Z",
     "iopub.status.idle": "2022-12-07T16:29:41.744975Z",
     "shell.execute_reply": "2022-12-07T16:29:41.744206Z"
    },
    "origin_pos": 10,
    "tab": [
     "pytorch"
    ]
   },
   "outputs": [],
   "source": [
    "class Vocab:  \n",
    "    \"\"\"文本词表\"\"\"\n",
    "    # 将每个词映射数字索引\n",
    "    # reserved_tokens句子开始/结束的token\n",
    "    def __init__(self, tokens=None, min_freq=0, reserved_tokens=None):\n",
    "        if tokens is None:\n",
    "            tokens = []\n",
    "        if reserved_tokens is None:\n",
    "            reserved_tokens = []\n",
    "            # 每个次出现的次数\n",
    "        counter = count_corpus(tokens)\n",
    "        self._token_freqs = sorted(counter.items(), key=lambda x: x[1],\n",
    "                                   reverse=True)\n",
    "        self.idx_to_token = ['<unk>'] + reserved_tokens\n",
    "        self.token_to_idx = {token: idx\n",
    "                             for idx, token in enumerate(self.idx_to_token)}\n",
    "        # 根据频数，确定每个词的索引\n",
    "        for token, freq in self._token_freqs:\n",
    "            if freq < min_freq:\n",
    "                break\n",
    "            if token not in self.token_to_idx:\n",
    "                # 词\n",
    "                self.idx_to_token.append(token)\n",
    "                # 词-索引\n",
    "                self.token_to_idx[token] = len(self.idx_to_token) - 1\n",
    "\n",
    "    def __len__(self):\n",
    "        return len(self.idx_to_token)\n",
    "\n",
    "    def __getitem__(self, tokens):\n",
    "        if not isinstance(tokens, (list, tuple)):\n",
    "            # 尝试从字典self.token_to_idx中获取键为tokens的值。\n",
    "            # 如果tokens在字典中，则返回对应的值；否则，返回字典中的默认值self.unk。\n",
    "            return self.token_to_idx.get(tokens, self.unk)\n",
    "        return [self.__getitem__(token) for token in tokens]\n",
    "\n",
    "    def to_tokens(self, indices):\n",
    "        if not isinstance(indices, (list, tuple)):\n",
    "            return self.idx_to_token[indices]\n",
    "        return [self.idx_to_token[index] for index in indices]\n",
    "# @property: 这是一个内置的Python装饰器，它被用来改变一个方法的行为，使其成为一个特殊的\"属性\"。\n",
    "# 使属性转换为**只读**属性，让属性可以通过方法的方式访问，可以像访问属性一样来访问方法,无需再加括号调用,更简洁。\n",
    "# 当你调用一个对象的方法时，你会得到一个结果。然而，使用@property装饰器，你可以使一个方法看起来像一个属性，当你访问这个\"属性\"时，你实际上是在调用这个方法。\n",
    "    @property  #只读属性\n",
    "    def unk(self):\n",
    "        return 0\n",
    "    \n",
    "# 你实际上是在获取`_token_freqs`的值。\n",
    "    @property\n",
    "    def token_freqs(self):\n",
    "        return self._token_freqs\n",
    "\n",
    "def count_corpus(tokens):  \n",
    "    \"\"\"统计词元的频率\"\"\"\n",
    "    # 它接受两个参数:\n",
    "\n",
    "# object:要判断类型的对象\n",
    "# classinfo:可以是类型对象,也可以是类型对象组成的元组\n",
    "    if len(tokens) == 0 or isinstance(tokens[0], list):\n",
    "        tokens = [token for line in tokens for token in line]\n",
    "    return collections.Counter(tokens)"
   ]
  },
  {
   "cell_type": "markdown",
   "id": "ac64886b",
   "metadata": {
    "slideshow": {
     "slide_type": "slide"
    }
   },
   "source": [
    "构建词表"
   ]
  },
  {
   "cell_type": "code",
   "execution_count": 5,
   "id": "98a1eddd",
   "metadata": {
    "execution": {
     "iopub.execute_input": "2022-12-07T16:29:41.748324Z",
     "iopub.status.busy": "2022-12-07T16:29:41.747784Z",
     "iopub.status.idle": "2022-12-07T16:29:41.761399Z",
     "shell.execute_reply": "2022-12-07T16:29:41.760617Z"
    },
    "origin_pos": 12,
    "tab": [
     "pytorch"
    ]
   },
   "outputs": [
    {
     "name": "stdout",
     "output_type": "stream",
     "text": [
      "4580\n",
      "[('<unk>', 0), ('the', 1), ('i', 2), ('and', 3), ('of', 4), ('a', 5), ('to', 6), ('was', 7), ('in', 8), ('that', 9)]\n"
     ]
    }
   ],
   "source": [
    "vocab = Vocab(tokens)\n",
    "print(len(vocab))\n",
    "print(list(vocab.token_to_idx.items())[:10])"
   ]
  },
  {
   "cell_type": "markdown",
   "id": "163f4475",
   "metadata": {
    "slideshow": {
     "slide_type": "-"
    }
   },
   "source": [
    "将每一条文本行转换成一个数字索引列表"
   ]
  },
  {
   "cell_type": "code",
   "execution_count": 6,
   "id": "00973622",
   "metadata": {
    "execution": {
     "iopub.execute_input": "2022-12-07T16:29:41.764966Z",
     "iopub.status.busy": "2022-12-07T16:29:41.764308Z",
     "iopub.status.idle": "2022-12-07T16:29:41.768981Z",
     "shell.execute_reply": "2022-12-07T16:29:41.768210Z"
    },
    "origin_pos": 14,
    "tab": [
     "pytorch"
    ]
   },
   "outputs": [
    {
     "name": "stdout",
     "output_type": "stream",
     "text": [
      "0\n",
      "文本: ['the', 'time', 'machine', 'by', 'h', 'g', 'wells']\n",
      "索引: [1, 19, 50, 40, 2183, 2184, 400]\n",
      "10\n",
      "文本: ['twinkled', 'and', 'his', 'usually', 'pale', 'face', 'was', 'flushed', 'and', 'animated', 'the']\n",
      "索引: [2186, 3, 25, 1044, 362, 113, 7, 1421, 3, 1045, 1]\n"
     ]
    }
   ],
   "source": [
    "for i in [0, 10]:\n",
    "    print(i)\n",
    "    print('文本:', tokens[i])\n",
    "    print('索引:', vocab[tokens[i]])"
   ]
  },
  {
   "cell_type": "markdown",
   "id": "8ce99a08",
   "metadata": {
    "slideshow": {
     "slide_type": "slide"
    }
   },
   "source": [
    "将所有功能打包到`load_corpus_time_machine`函数中"
   ]
  },
  {
   "cell_type": "code",
   "execution_count": 8,
   "id": "99a88556",
   "metadata": {
    "execution": {
     "iopub.execute_input": "2022-12-07T16:29:41.772378Z",
     "iopub.status.busy": "2022-12-07T16:29:41.771731Z",
     "iopub.status.idle": "2022-12-07T16:29:41.884515Z",
     "shell.execute_reply": "2022-12-07T16:29:41.883704Z"
    },
    "origin_pos": 16,
    "tab": [
     "pytorch"
    ]
   },
   "outputs": [
    {
     "data": {
      "text/plain": [
       "(170580, 28)"
      ]
     },
     "execution_count": 8,
     "metadata": {},
     "output_type": "execute_result"
    }
   ],
   "source": [
    "def load_corpus_time_machine(max_tokens=-1):  \n",
    "    \"\"\"返回时光机器数据集的词元索引列表和词表\"\"\"\n",
    "    lines = read_time_machine()\n",
    "    # 词的类别索引\n",
    "    tokens = tokenize(lines, 'char')\n",
    "    vocab = Vocab(tokens)\n",
    "    # 一长串词语的整数，对应索引\n",
    "    corpus = [vocab[token] for line in tokens for token in line]\n",
    "    if max_tokens > 0:\n",
    "        corpus = corpus[:max_tokens]\n",
    "    return corpus, vocab\n",
    "\n",
    "corpus, vocab = load_corpus_time_machine()\n",
    "len(corpus), len(vocab)"
   ]
  }
 ],
 "metadata": {
  "celltoolbar": "Slideshow",
  "kernelspec": {
   "display_name": "d2l-zh",
   "language": "python",
   "name": "python3"
  },
  "language_info": {
   "codemirror_mode": {
    "name": "ipython",
    "version": 3
   },
   "file_extension": ".py",
   "mimetype": "text/x-python",
   "name": "python",
   "nbconvert_exporter": "python",
   "pygments_lexer": "ipython3",
   "version": "3.8.13"
  },
  "rise": {
   "autolaunch": true,
   "enable_chalkboard": true,
   "overlay": "<div class='my-top-right'><img height=80px src='http://d2l.ai/_static/logo-with-text.png'/></div><div class='my-top-left'></div>",
   "scroll": true
  }
 },
 "nbformat": 4,
 "nbformat_minor": 5
}
