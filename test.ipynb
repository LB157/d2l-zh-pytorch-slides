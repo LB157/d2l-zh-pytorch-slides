{
 "cells": [
  {
   "cell_type": "code",
   "execution_count": 4,
   "metadata": {},
   "outputs": [
    {
     "name": "stdout",
     "output_type": "stream",
     "text": [
      "tensor(6.5000)\n"
     ]
    }
   ],
   "source": [
    "import torch\n",
    "a=torch.tensor([4,9],dtype=torch.float32)\n",
    "print(a.mean())\n"
   ]
  },
  {
   "cell_type": "code",
   "execution_count": 1,
   "metadata": {},
   "outputs": [
    {
     "ename": "AttributeError",
     "evalue": "'dict' object has no attribute 'patches'",
     "output_type": "error",
     "traceback": [
      "\u001b[0;31m---------------------------------------------------------------------------\u001b[0m",
      "\u001b[0;31mAttributeError\u001b[0m                            Traceback (most recent call last)",
      "\u001b[1;32m/home/public/liubo/d2l/d2l-zh-pytorch-slides/test.ipynb Cell 2\u001b[0m in \u001b[0;36m1\n\u001b[1;32m      <a href='vscode-notebook-cell://ssh-remote%2Bliubo_service/home/public/liubo/d2l/d2l-zh-pytorch-slides/test.ipynb#W2sdnNjb2RlLXJlbW90ZQ%3D%3D?line=4'>5</a>\u001b[0m patches \u001b[39m=\u001b[39m [  \n\u001b[1;32m      <a href='vscode-notebook-cell://ssh-remote%2Bliubo_service/home/public/liubo/d2l/d2l-zh-pytorch-slides/test.ipynb#W2sdnNjb2RlLXJlbW90ZQ%3D%3D?line=5'>6</a>\u001b[0m     {\u001b[39m'\u001b[39m\u001b[39ma\u001b[39m\u001b[39m'\u001b[39m: \u001b[39mlambda\u001b[39;00m x: x \u001b[39m+\u001b[39m \u001b[39m1\u001b[39m},  \n\u001b[1;32m      <a href='vscode-notebook-cell://ssh-remote%2Bliubo_service/home/public/liubo/d2l/d2l-zh-pytorch-slides/test.ipynb#W2sdnNjb2RlLXJlbW90ZQ%3D%3D?line=6'>7</a>\u001b[0m     {\u001b[39m'\u001b[39m\u001b[39mb\u001b[39m\u001b[39m'\u001b[39m: \u001b[39mlambda\u001b[39;00m x: x \u001b[39m*\u001b[39m \u001b[39m2\u001b[39m}  \n\u001b[1;32m      <a href='vscode-notebook-cell://ssh-remote%2Bliubo_service/home/public/liubo/d2l/d2l-zh-pytorch-slides/test.ipynb#W2sdnNjb2RlLXJlbW90ZQ%3D%3D?line=7'>8</a>\u001b[0m ]  \n\u001b[1;32m     <a href='vscode-notebook-cell://ssh-remote%2Bliubo_service/home/public/liubo/d2l/d2l-zh-pytorch-slides/test.ipynb#W2sdnNjb2RlLXJlbW90ZQ%3D%3D?line=9'>10</a>\u001b[0m \u001b[39m# 应用patch  \u001b[39;00m\n\u001b[0;32m---> <a href='vscode-notebook-cell://ssh-remote%2Bliubo_service/home/public/liubo/d2l/d2l-zh-pytorch-slides/test.ipynb#W2sdnNjb2RlLXJlbW90ZQ%3D%3D?line=10'>11</a>\u001b[0m patched_obj \u001b[39m=\u001b[39m patches[\u001b[39m1\u001b[39;49m]\u001b[39m.\u001b[39;49mpatches(input_obj, patches)  \n\u001b[1;32m     <a href='vscode-notebook-cell://ssh-remote%2Bliubo_service/home/public/liubo/d2l/d2l-zh-pytorch-slides/test.ipynb#W2sdnNjb2RlLXJlbW90ZQ%3D%3D?line=12'>13</a>\u001b[0m \u001b[39m# 输出结果  \u001b[39;00m\n\u001b[1;32m     <a href='vscode-notebook-cell://ssh-remote%2Bliubo_service/home/public/liubo/d2l/d2l-zh-pytorch-slides/test.ipynb#W2sdnNjb2RlLXJlbW90ZQ%3D%3D?line=13'>14</a>\u001b[0m \u001b[39mprint\u001b[39m(patched_obj)  \u001b[39m# 输出: {'a': 2, 'b': 4}\u001b[39;00m\n",
      "\u001b[0;31mAttributeError\u001b[0m: 'dict' object has no attribute 'patches'"
     ]
    }
   ],
   "source": [
    "# 定义一个输入对象  \n",
    "input_obj = {'a': 1, 'b': 2}  \n",
    "  \n",
    "# 定义一组patch  \n",
    "patches = [  \n",
    "    {'a': lambda x: x + 1},  \n",
    "    {'b': lambda x: x * 2}  \n",
    "]  \n",
    "  \n",
    "# 应用patch  \n",
    "patched_obj = patches[1].patches(input_obj, patches)  \n",
    "  \n",
    "# 输出结果  \n",
    "print(patched_obj)  # 输出: {'a': 2, 'b': 4}\n",
    "print(patches[1].patches)"
   ]
  },
  {
   "cell_type": "code",
   "execution_count": 1,
   "metadata": {},
   "outputs": [
    {
     "name": "stdout",
     "output_type": "stream",
     "text": [
      "tensor([1, 2])\n",
      "tensor([5, 4])\n",
      "tensor([3])\n"
     ]
    }
   ],
   "source": [
    "import torch\n",
    "from torch.utils.data import Dataset, DataLoader\n",
    "\n",
    "# 自定义数据集\n",
    "class MyDataset(Dataset):\n",
    "    def __init__(self, data):\n",
    "        self.data = data\n",
    "\n",
    "    def __getitem__(self, index):\n",
    "        return self.data[index]\n",
    "\n",
    "    def __len__(self):\n",
    "        return len(self.data)\n",
    "\n",
    "# 创建数据集\n",
    "data = [1, 2, 3, 4, 5]\n",
    "dataset = MyDataset(data)\n",
    "\n",
    "# 创建数据加载器\n",
    "batch_size = 2\n",
    "dataloader = DataLoader(dataset, batch_size=batch_size, shuffle=True)\n",
    "\n",
    "# 迭代获取批次样本\n",
    "for batch in dataloader:\n",
    "    print(batch)"
   ]
  }
 ],
 "metadata": {
  "kernelspec": {
   "display_name": "d2l-zh",
   "language": "python",
   "name": "python3"
  },
  "language_info": {
   "codemirror_mode": {
    "name": "ipython",
    "version": 3
   },
   "file_extension": ".py",
   "mimetype": "text/x-python",
   "name": "python",
   "nbconvert_exporter": "python",
   "pygments_lexer": "ipython3",
   "version": "3.8.13"
  },
  "orig_nbformat": 4
 },
 "nbformat": 4,
 "nbformat_minor": 2
}
