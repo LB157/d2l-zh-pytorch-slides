{
 "cells": [
  {
   "attachments": {},
   "cell_type": "markdown",
   "id": "e694f74d",
   "metadata": {
    "slideshow": {
     "slide_type": "-"
    }
   },
   "source": [
    "# 参数管理\n",
    "\n",
    "我们首先看一下具有单隐藏层的多层感知机"
   ]
  },
  {
   "cell_type": "code",
   "execution_count": 3,
   "id": "31e7c733",
   "metadata": {
    "execution": {
     "iopub.execute_input": "2022-12-07T16:59:39.200121Z",
     "iopub.status.busy": "2022-12-07T16:59:39.199802Z",
     "iopub.status.idle": "2022-12-07T16:59:40.341995Z",
     "shell.execute_reply": "2022-12-07T16:59:40.341206Z"
    },
    "origin_pos": 2,
    "tab": [
     "pytorch"
    ]
   },
   "outputs": [
    {
     "data": {
      "text/plain": [
       "tensor([[0.2275],\n",
       "        [0.3120]], grad_fn=<AddmmBackward0>)"
      ]
     },
     "execution_count": 3,
     "metadata": {},
     "output_type": "execute_result"
    }
   ],
   "source": [
    "import torch\n",
    "from torch import nn\n",
    "\n",
    "net = nn.Sequential(nn.Linear(4, 8), nn.ReLU(), nn.Linear(8, 1))\n",
    "X = torch.rand(size=(2, 4))\n",
    "net(X)"
   ]
  },
  {
   "attachments": {},
   "cell_type": "markdown",
   "id": "ccba037b",
   "metadata": {
    "slideshow": {
     "slide_type": "slide"
    }
   },
   "source": [
    "参数访问"
   ]
  },
  {
   "cell_type": "code",
   "execution_count": 4,
   "id": "9e0c2768",
   "metadata": {
    "execution": {
     "iopub.execute_input": "2022-12-07T16:59:40.345895Z",
     "iopub.status.busy": "2022-12-07T16:59:40.345358Z",
     "iopub.status.idle": "2022-12-07T16:59:40.351780Z",
     "shell.execute_reply": "2022-12-07T16:59:40.350856Z"
    },
    "origin_pos": 7,
    "tab": [
     "pytorch"
    ]
   },
   "outputs": [
    {
     "name": "stdout",
     "output_type": "stream",
     "text": [
      "OrderedDict([('weight', tensor([[-0.1776,  0.1332, -0.2672,  0.2932, -0.1400, -0.3367,  0.1567, -0.1552]])), ('bias', tensor([0.1570]))])\n"
     ]
    }
   ],
   "source": [
    "print(net[2].state_dict())"
   ]
  },
  {
   "attachments": {},
   "cell_type": "markdown",
   "id": "c3220d6f",
   "metadata": {
    "slideshow": {
     "slide_type": "slide"
    }
   },
   "source": [
    "目标参数"
   ]
  },
  {
   "cell_type": "code",
   "execution_count": 5,
   "id": "20960d14",
   "metadata": {
    "execution": {
     "iopub.execute_input": "2022-12-07T16:59:40.355017Z",
     "iopub.status.busy": "2022-12-07T16:59:40.354533Z",
     "iopub.status.idle": "2022-12-07T16:59:40.361115Z",
     "shell.execute_reply": "2022-12-07T16:59:40.360109Z"
    },
    "origin_pos": 11,
    "tab": [
     "pytorch"
    ]
   },
   "outputs": [
    {
     "name": "stdout",
     "output_type": "stream",
     "text": [
      "<class 'torch.nn.parameter.Parameter'>\n",
      "Parameter containing:\n",
      "tensor([0.1570], requires_grad=True)\n",
      "tensor([0.1570])\n"
     ]
    }
   ],
   "source": [
    "print(type(net[2].bias))\n",
    "print(net[2].bias)\n",
    "print(net[2].bias.data)"
   ]
  },
  {
   "cell_type": "code",
   "execution_count": 7,
   "id": "3aaf945f",
   "metadata": {
    "execution": {
     "iopub.execute_input": "2022-12-07T16:59:40.364515Z",
     "iopub.status.busy": "2022-12-07T16:59:40.364074Z",
     "iopub.status.idle": "2022-12-07T16:59:40.370363Z",
     "shell.execute_reply": "2022-12-07T16:59:40.369347Z"
    },
    "origin_pos": 16,
    "tab": [
     "pytorch"
    ]
   },
   "outputs": [
    {
     "data": {
      "text/plain": [
       "True"
      ]
     },
     "execution_count": 7,
     "metadata": {},
     "output_type": "execute_result"
    }
   ],
   "source": [
    "net[2].weight.grad == None"
   ]
  },
  {
   "attachments": {},
   "cell_type": "markdown",
   "id": "34c1fbf5",
   "metadata": {
    "slideshow": {
     "slide_type": "slide"
    }
   },
   "source": [
    "一次性访问所有参数"
   ]
  },
  {
   "cell_type": "code",
   "execution_count": 8,
   "id": "307d4757",
   "metadata": {
    "execution": {
     "iopub.execute_input": "2022-12-07T16:59:40.373816Z",
     "iopub.status.busy": "2022-12-07T16:59:40.373095Z",
     "iopub.status.idle": "2022-12-07T16:59:40.379087Z",
     "shell.execute_reply": "2022-12-07T16:59:40.378031Z"
    },
    "origin_pos": 19,
    "tab": [
     "pytorch"
    ]
   },
   "outputs": [
    {
     "name": "stdout",
     "output_type": "stream",
     "text": [
      "('weight', torch.Size([8, 4])) ('bias', torch.Size([8]))\n",
      "('0.weight', torch.Size([8, 4])) ('0.bias', torch.Size([8])) ('2.weight', torch.Size([1, 8])) ('2.bias', torch.Size([1]))\n"
     ]
    }
   ],
   "source": [
    "print(*[(name, param.shape) for name, param in net[0].named_parameters()])\n",
    "print(*[(name, param.shape) for name, param in net.named_parameters()])"
   ]
  },
  {
   "cell_type": "code",
   "execution_count": 9,
   "id": "deb873b1",
   "metadata": {
    "execution": {
     "iopub.execute_input": "2022-12-07T16:59:40.382676Z",
     "iopub.status.busy": "2022-12-07T16:59:40.381950Z",
     "iopub.status.idle": "2022-12-07T16:59:40.387675Z",
     "shell.execute_reply": "2022-12-07T16:59:40.386925Z"
    },
    "origin_pos": 23,
    "tab": [
     "pytorch"
    ]
   },
   "outputs": [
    {
     "data": {
      "text/plain": [
       "tensor([0.1570])"
      ]
     },
     "execution_count": 9,
     "metadata": {},
     "output_type": "execute_result"
    }
   ],
   "source": [
    "net.state_dict()['2.bias'].data"
   ]
  },
  {
   "attachments": {},
   "cell_type": "markdown",
   "id": "59859183",
   "metadata": {
    "slideshow": {
     "slide_type": "slide"
    }
   },
   "source": [
    "从嵌套块收集参数"
   ]
  },
  {
   "cell_type": "code",
   "execution_count": 11,
   "id": "74cd9d52",
   "metadata": {
    "execution": {
     "iopub.execute_input": "2022-12-07T16:59:40.391302Z",
     "iopub.status.busy": "2022-12-07T16:59:40.390503Z",
     "iopub.status.idle": "2022-12-07T16:59:40.400904Z",
     "shell.execute_reply": "2022-12-07T16:59:40.400156Z"
    },
    "origin_pos": 28,
    "tab": [
     "pytorch"
    ]
   },
   "outputs": [
    {
     "data": {
      "text/plain": [
       "tensor([[0.2109],\n",
       "        [0.2108]], grad_fn=<AddmmBackward0>)"
      ]
     },
     "execution_count": 11,
     "metadata": {},
     "output_type": "execute_result"
    }
   ],
   "source": [
    "def block1():\n",
    "    return nn.Sequential(nn.Linear(4, 8), nn.ReLU(),\n",
    "                         nn.Linear(8, 4), nn.ReLU())\n",
    "\n",
    "def block2():\n",
    "    net = nn.Sequential()\n",
    "    for i in range(4):\n",
    "        net.add_module(f'block {i}', block1())\n",
    "    return net\n",
    "\n",
    "rgnet = nn.Sequential(block2(), nn.Linear(4, 1))\n",
    "rgnet(X)"
   ]
  },
  {
   "attachments": {},
   "cell_type": "markdown",
   "id": "163f952c",
   "metadata": {
    "slideshow": {
     "slide_type": "slide"
    }
   },
   "source": [
    "设计了网络后，我们看看它是如何工作的"
   ]
  },
  {
   "cell_type": "code",
   "execution_count": 8,
   "id": "dc4d4978",
   "metadata": {
    "execution": {
     "iopub.execute_input": "2022-12-07T16:59:40.404269Z",
     "iopub.status.busy": "2022-12-07T16:59:40.403645Z",
     "iopub.status.idle": "2022-12-07T16:59:40.407896Z",
     "shell.execute_reply": "2022-12-07T16:59:40.407140Z"
    },
    "origin_pos": 33,
    "tab": [
     "pytorch"
    ]
   },
   "outputs": [
    {
     "name": "stdout",
     "output_type": "stream",
     "text": [
      "Sequential(\n",
      "  (0): Sequential(\n",
      "    (block 0): Sequential(\n",
      "      (0): Linear(in_features=4, out_features=8, bias=True)\n",
      "      (1): ReLU()\n",
      "      (2): Linear(in_features=8, out_features=4, bias=True)\n",
      "      (3): ReLU()\n",
      "    )\n",
      "    (block 1): Sequential(\n",
      "      (0): Linear(in_features=4, out_features=8, bias=True)\n",
      "      (1): ReLU()\n",
      "      (2): Linear(in_features=8, out_features=4, bias=True)\n",
      "      (3): ReLU()\n",
      "    )\n",
      "    (block 2): Sequential(\n",
      "      (0): Linear(in_features=4, out_features=8, bias=True)\n",
      "      (1): ReLU()\n",
      "      (2): Linear(in_features=8, out_features=4, bias=True)\n",
      "      (3): ReLU()\n",
      "    )\n",
      "    (block 3): Sequential(\n",
      "      (0): Linear(in_features=4, out_features=8, bias=True)\n",
      "      (1): ReLU()\n",
      "      (2): Linear(in_features=8, out_features=4, bias=True)\n",
      "      (3): ReLU()\n",
      "    )\n",
      "  )\n",
      "  (1): Linear(in_features=4, out_features=1, bias=True)\n",
      ")\n"
     ]
    }
   ],
   "source": [
    "print(rgnet)"
   ]
  },
  {
   "cell_type": "code",
   "execution_count": 12,
   "id": "d8e60b35",
   "metadata": {
    "execution": {
     "iopub.execute_input": "2022-12-07T16:59:40.410923Z",
     "iopub.status.busy": "2022-12-07T16:59:40.410613Z",
     "iopub.status.idle": "2022-12-07T16:59:40.416456Z",
     "shell.execute_reply": "2022-12-07T16:59:40.415718Z"
    },
    "origin_pos": 37,
    "tab": [
     "pytorch"
    ]
   },
   "outputs": [
    {
     "data": {
      "text/plain": [
       "tensor([ 0.3725, -0.2170,  0.2562, -0.1732, -0.2887,  0.3522,  0.1633,  0.2757])"
      ]
     },
     "execution_count": 12,
     "metadata": {},
     "output_type": "execute_result"
    }
   ],
   "source": [
    "rgnet[0][1][0].bias.data"
   ]
  },
  {
   "attachments": {},
   "cell_type": "markdown",
   "id": "e1118dd3",
   "metadata": {
    "slideshow": {
     "slide_type": "slide"
    }
   },
   "source": [
    "内置初始化"
   ]
  },
  {
   "cell_type": "code",
   "execution_count": 10,
   "id": "719e7eb8",
   "metadata": {
    "execution": {
     "iopub.execute_input": "2022-12-07T16:59:40.419626Z",
     "iopub.status.busy": "2022-12-07T16:59:40.419352Z",
     "iopub.status.idle": "2022-12-07T16:59:40.426766Z",
     "shell.execute_reply": "2022-12-07T16:59:40.426002Z"
    },
    "origin_pos": 47,
    "tab": [
     "pytorch"
    ]
   },
   "outputs": [
    {
     "data": {
      "text/plain": [
       "(tensor([-0.0128, -0.0141,  0.0062,  0.0028]), tensor(0.))"
      ]
     },
     "execution_count": 10,
     "metadata": {},
     "output_type": "execute_result"
    }
   ],
   "source": [
    "# 正态分布初始化权重\n",
    "def init_normal(m):\n",
    "    if type(m) == nn.Linear:\n",
    "        nn.init.normal_(m.weight, mean=0, std=0.01)\n",
    "        nn.init.zeros_(m.bias)\n",
    "net.apply(init_normal)\n",
    "net[0].weight.data[0], net[0].bias.data[0]"
   ]
  },
  {
   "cell_type": "code",
   "execution_count": 11,
   "id": "acd121fc",
   "metadata": {
    "execution": {
     "iopub.execute_input": "2022-12-07T16:59:40.430188Z",
     "iopub.status.busy": "2022-12-07T16:59:40.429543Z",
     "iopub.status.idle": "2022-12-07T16:59:40.436502Z",
     "shell.execute_reply": "2022-12-07T16:59:40.435761Z"
    },
    "origin_pos": 52,
    "tab": [
     "pytorch"
    ]
   },
   "outputs": [
    {
     "data": {
      "text/plain": [
       "(tensor([1., 1., 1., 1.]), tensor(0.))"
      ]
     },
     "execution_count": 11,
     "metadata": {},
     "output_type": "execute_result"
    }
   ],
   "source": [
    "# 权重初始化为全1\n",
    "def init_constant(m):\n",
    "    if type(m) == nn.Linear:\n",
    "        nn.init.constant_(m.weight, 1)\n",
    "        nn.init.zeros_(m.bias)\n",
    "net.apply(init_constant)\n",
    "net[0].weight.data[0], net[0].bias.data[0]"
   ]
  },
  {
   "attachments": {},
   "cell_type": "markdown",
   "id": "a9f617fd",
   "metadata": {
    "slideshow": {
     "slide_type": "slide"
    }
   },
   "source": [
    "对某些块应用不同的初始化方法"
   ]
  },
  {
   "attachments": {},
   "cell_type": "markdown",
   "id": "3da224e5",
   "metadata": {},
   "source": [
    "Xavier初始化的优点是帮助提高模型的训练效果和收敛速度，\n",
    "尤其在深度神经网络中更为有效。它能够避免激活函数饱和和梯度消失等问题，并促进了信息在网络中的流动。"
   ]
  },
  {
   "cell_type": "code",
   "execution_count": 12,
   "id": "44989c06",
   "metadata": {
    "execution": {
     "iopub.execute_input": "2022-12-07T16:59:40.439840Z",
     "iopub.status.busy": "2022-12-07T16:59:40.439218Z",
     "iopub.status.idle": "2022-12-07T16:59:40.445909Z",
     "shell.execute_reply": "2022-12-07T16:59:40.445156Z"
    },
    "origin_pos": 57,
    "tab": [
     "pytorch"
    ]
   },
   "outputs": [
    {
     "name": "stdout",
     "output_type": "stream",
     "text": [
      "tensor([ 0.3809,  0.5354, -0.4686, -0.2376])\n",
      "tensor([[42., 42., 42., 42., 42., 42., 42., 42.]])\n"
     ]
    }
   ],
   "source": [
    "def init_xavier(m):\n",
    "    if type(m) == nn.Linear:\n",
    "        nn.init.xavier_uniform_(m.weight)\n",
    "def init_42(m):\n",
    "    if type(m) == nn.Linear:\n",
    "        nn.init.constant_(m.weight, 42)\n",
    "\n",
    "net[0].apply(init_xavier)\n",
    "net[2].apply(init_42)\n",
    "print(net[0].weight.data[0])\n",
    "print(net[2].weight.data)"
   ]
  },
  {
   "attachments": {},
   "cell_type": "markdown",
   "id": "8c5af030",
   "metadata": {
    "slideshow": {
     "slide_type": "slide"
    }
   },
   "source": [
    "自定义初始化"
   ]
  },
  {
   "cell_type": "code",
   "execution_count": 13,
   "id": "62859272",
   "metadata": {
    "execution": {
     "iopub.execute_input": "2022-12-07T16:59:40.449458Z",
     "iopub.status.busy": "2022-12-07T16:59:40.448848Z",
     "iopub.status.idle": "2022-12-07T16:59:40.457344Z",
     "shell.execute_reply": "2022-12-07T16:59:40.456599Z"
    },
    "origin_pos": 66,
    "tab": [
     "pytorch"
    ]
   },
   "outputs": [
    {
     "name": "stdout",
     "output_type": "stream",
     "text": [
      "Init weight torch.Size([8, 4])\n",
      "Init weight torch.Size([1, 8])\n"
     ]
    },
    {
     "data": {
      "text/plain": [
       "tensor([[-0.0000, 0.0000, -0.0000, 0.0000],\n",
       "        [-0.0000, 9.3464, 5.5061, 6.8197]], grad_fn=<SliceBackward0>)"
      ]
     },
     "execution_count": 13,
     "metadata": {},
     "output_type": "execute_result"
    }
   ],
   "source": [
    "def my_init(m):\n",
    "    if type(m) == nn.Linear:\n",
    "        print(\"Init\", *[(name, param.shape)\n",
    "                        for name, param in m.named_parameters()][0])\n",
    "        # 均匀初始化权重\n",
    "        nn.init.uniform_(m.weight, -10, 10)\n",
    "        # 保留绝对值大于5的权重\n",
    "        # 将条件表达式的结果与权重张量相乘。\n",
    "        # 这将导致满足条件（绝对值大于等于5）的权重值保持不变，\n",
    "        # 而不满足条件的权重值将设置为0。\n",
    "        m.weight.data *= m.weight.data.abs() >= 5\n",
    "\n",
    "net.apply(my_init)\n",
    "net[0].weight[:2]"
   ]
  },
  {
   "cell_type": "code",
   "execution_count": 13,
   "id": "c384147e",
   "metadata": {
    "execution": {
     "iopub.execute_input": "2022-12-07T16:59:40.460372Z",
     "iopub.status.busy": "2022-12-07T16:59:40.460090Z",
     "iopub.status.idle": "2022-12-07T16:59:40.466428Z",
     "shell.execute_reply": "2022-12-07T16:59:40.465690Z"
    },
    "origin_pos": 71,
    "tab": [
     "pytorch"
    ]
   },
   "outputs": [
    {
     "data": {
      "text/plain": [
       "tensor([42.0000,  1.0007,  0.8989,  1.0852])"
      ]
     },
     "execution_count": 13,
     "metadata": {},
     "output_type": "execute_result"
    }
   ],
   "source": [
    "net[0].weight.data[:] += 1\n",
    "net[0].weight.data[0, 0] = 42\n",
    "net[0].weight.data[0]"
   ]
  },
  {
   "attachments": {},
   "cell_type": "markdown",
   "id": "cd828297",
   "metadata": {
    "slideshow": {
     "slide_type": "slide"
    }
   },
   "source": [
    "参数绑定,参数共享"
   ]
  },
  {
   "cell_type": "code",
   "execution_count": 15,
   "id": "ef91cda9",
   "metadata": {
    "execution": {
     "iopub.execute_input": "2022-12-07T16:59:40.469511Z",
     "iopub.status.busy": "2022-12-07T16:59:40.469232Z",
     "iopub.status.idle": "2022-12-07T16:59:40.477075Z",
     "shell.execute_reply": "2022-12-07T16:59:40.476334Z"
    },
    "origin_pos": 77,
    "tab": [
     "pytorch"
    ]
   },
   "outputs": [
    {
     "name": "stdout",
     "output_type": "stream",
     "text": [
      "tensor([True, True, True, True, True, True, True, True])\n",
      "tensor([True, True, True, True, True, True, True, True])\n"
     ]
    }
   ],
   "source": [
    "shared = nn.Linear(8, 8)\n",
    "net = nn.Sequential(nn.Linear(4, 8), nn.ReLU(),\n",
    "                    shared, nn.ReLU(),\n",
    "                    shared, nn.ReLU(),\n",
    "                    nn.Linear(8, 1))\n",
    "net(X)\n",
    "print(net[2].weight.data[0] == net[4].weight.data[0])\n",
    "net[2].weight.data[0, 0] = 100\n",
    "print(net[2].weight.data[0] == net[4].weight.data[0])"
   ]
  }
 ],
 "metadata": {
  "celltoolbar": "Slideshow",
  "kernelspec": {
   "display_name": "d2l-zh",
   "language": "python",
   "name": "python3"
  },
  "language_info": {
   "codemirror_mode": {
    "name": "ipython",
    "version": 3
   },
   "file_extension": ".py",
   "mimetype": "text/x-python",
   "name": "python",
   "nbconvert_exporter": "python",
   "pygments_lexer": "ipython3",
   "version": "3.8.16"
  },
  "rise": {
   "autolaunch": true,
   "enable_chalkboard": true,
   "overlay": "<div class='my-top-right'><img height=80px src='http://d2l.ai/_static/logo-with-text.png'/></div><div class='my-top-left'></div>",
   "scroll": true
  }
 },
 "nbformat": 4,
 "nbformat_minor": 5
}
