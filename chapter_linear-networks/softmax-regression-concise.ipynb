{
 "cells": [
  {
   "cell_type": "markdown",
   "id": "9a780826",
   "metadata": {
    "slideshow": {
     "slide_type": "-"
    }
   },
   "source": [
    "# softmax回归的简洁实现\n",
    "\n",
    "通过深度学习框架的高级API能够使实现\n",
    "softmax\n",
    "回归变得更加容易"
   ]
  },
  {
   "cell_type": "code",
   "execution_count": 1,
   "id": "e1efe1af",
   "metadata": {
    "execution": {
     "iopub.execute_input": "2022-12-07T16:35:39.481668Z",
     "iopub.status.busy": "2022-12-07T16:35:39.481001Z",
     "iopub.status.idle": "2022-12-07T16:35:39.589971Z",
     "shell.execute_reply": "2022-12-07T16:35:39.588943Z"
    },
    "origin_pos": 5,
    "tab": [
     "pytorch"
    ]
   },
   "outputs": [],
   "source": [
    "import torch\n",
    "from torch import nn\n",
    "from d2l import torch as d2l\n",
    "\n",
    "batch_size = 256\n",
    "train_iter, test_iter = d2l.load_data_fashion_mnist(batch_size)"
   ]
  },
  {
   "cell_type": "markdown",
   "id": "1280bb0a",
   "metadata": {
    "slideshow": {
     "slide_type": "slide"
    }
   },
   "source": [
    "Softmax回归的输出层是一个全连接层"
   ]
  },
  {
   "cell_type": "code",
   "execution_count": null,
   "id": "9608a3f3",
   "metadata": {
    "execution": {
     "iopub.execute_input": "2022-12-07T16:35:39.594776Z",
     "iopub.status.busy": "2022-12-07T16:35:39.594245Z",
     "iopub.status.idle": "2022-12-07T16:35:39.600927Z",
     "shell.execute_reply": "2022-12-07T16:35:39.600015Z"
    },
    "origin_pos": 8,
    "tab": [
     "pytorch"
    ]
   },
   "outputs": [],
   "source": [
    "net = nn.Sequential(nn.Flatten(), nn.Linear(784, 10))\n",
    "\n",
    "def init_weights(m):\n",
    "    if type(m) == nn.Linear:\n",
    "        nn.init.normal_(m.weight, std=0.01)\n",
    "\n",
    "net.apply(init_weights);"
   ]
  },
  {
   "cell_type": "markdown",
   "id": "b5d3a76c",
   "metadata": {
    "slideshow": {
     "slide_type": "slide"
    }
   },
   "source": [
    "在交叉熵损失函数中传递未规范化的预测，并同时计算softmax及其对数"
   ]
  },
  {
   "cell_type": "code",
   "execution_count": null,
   "id": "8934914b",
   "metadata": {
    "execution": {
     "iopub.execute_input": "2022-12-07T16:35:39.605503Z",
     "iopub.status.busy": "2022-12-07T16:35:39.605014Z",
     "iopub.status.idle": "2022-12-07T16:35:39.609537Z",
     "shell.execute_reply": "2022-12-07T16:35:39.608549Z"
    },
    "origin_pos": 13,
    "tab": [
     "pytorch"
    ]
   },
   "outputs": [],
   "source": [
    "loss = nn.CrossEntropyLoss(reduction='none')"
   ]
  },
  {
   "cell_type": "markdown",
   "id": "2581d771",
   "metadata": {
    "slideshow": {
     "slide_type": "-"
    }
   },
   "source": [
    "使用学习率为0.1的小批量随机梯度下降作为优化算法"
   ]
  },
  {
   "cell_type": "code",
   "execution_count": null,
   "id": "c18c527a",
   "metadata": {
    "execution": {
     "iopub.execute_input": "2022-12-07T16:35:39.612892Z",
     "iopub.status.busy": "2022-12-07T16:35:39.612445Z",
     "iopub.status.idle": "2022-12-07T16:35:39.616898Z",
     "shell.execute_reply": "2022-12-07T16:35:39.615982Z"
    },
    "origin_pos": 17,
    "tab": [
     "pytorch"
    ]
   },
   "outputs": [],
   "source": [
    "trainer = torch.optim.SGD(net.parameters(), lr=0.1)"
   ]
  },
  {
   "cell_type": "markdown",
   "id": "7a38a549",
   "metadata": {
    "slideshow": {
     "slide_type": "slide"
    }
   },
   "source": [
    "调用\n",
    "之前\n",
    "定义的训练函数来训练模型"
   ]
  },
  {
   "cell_type": "code",
   "execution_count": null,
   "id": "5f9b3042",
   "metadata": {
    "execution": {
     "iopub.execute_input": "2022-12-07T16:35:39.620669Z",
     "iopub.status.busy": "2022-12-07T16:35:39.619972Z",
     "iopub.status.idle": "2022-12-07T16:36:11.143101Z",
     "shell.execute_reply": "2022-12-07T16:36:11.142118Z"
    },
    "origin_pos": 21,
    "tab": [
     "pytorch"
    ]
   },
   "outputs": [],
   "source": [
    "num_epochs = 10\n",
    "d2l.train_ch3(net, train_iter, test_iter, loss, num_epochs, trainer)"
   ]
  }
 ],
 "metadata": {
  "celltoolbar": "Slideshow",
  "kernelspec": {
   "display_name": "d2l-zh",
   "language": "python",
   "name": "python3"
  },
  "language_info": {
   "codemirror_mode": {
    "name": "ipython",
    "version": 3
   },
   "file_extension": ".py",
   "mimetype": "text/x-python",
   "name": "python",
   "nbconvert_exporter": "python",
   "pygments_lexer": "ipython3",
   "version": "3.8.16"
  },
  "rise": {
   "autolaunch": true,
   "enable_chalkboard": true,
   "overlay": "<div class='my-top-right'><img height=80px src='http://d2l.ai/_static/logo-with-text.png'/></div><div class='my-top-left'></div>",
   "scroll": true
  }
 },
 "nbformat": 4,
 "nbformat_minor": 5
}
