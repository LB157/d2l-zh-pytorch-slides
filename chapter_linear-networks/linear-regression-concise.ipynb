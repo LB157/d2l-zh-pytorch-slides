{
 "cells": [
  {
   "attachments": {},
   "cell_type": "markdown",
   "id": "bd40d0d5",
   "metadata": {
    "slideshow": {
     "slide_type": "slide"
    }
   },
   "source": [
    "# 线性回归的简洁实现\n",
    "\n",
    "通过使用深度学习的框架来简洁地实现\n",
    "线性回归模型\n",
    "生成数据集"
   ]
  },
  {
   "cell_type": "code",
   "execution_count": 71,
   "id": "492c9787",
   "metadata": {
    "execution": {
     "iopub.execute_input": "2022-12-07T16:40:08.226745Z",
     "iopub.status.busy": "2022-12-07T16:40:08.226129Z",
     "iopub.status.idle": "2022-12-07T16:40:08.250195Z",
     "shell.execute_reply": "2022-12-07T16:40:08.249372Z"
    },
    "origin_pos": 5,
    "tab": [
     "pytorch"
    ]
   },
   "outputs": [],
   "source": [
    "import numpy as np\n",
    "import torch\n",
    "from torch.utils import data\n",
    "from d2l import torch as d2l\n",
    "\n",
    "true_w = torch.tensor([2, -3.4])\n",
    "true_b = 4.2\n",
    "features, labels = d2l.synthetic_data(true_w, true_b, 1000)"
   ]
  },
  {
   "attachments": {},
   "cell_type": "markdown",
   "id": "b4beb022",
   "metadata": {
    "slideshow": {
     "slide_type": "slide"
    }
   },
   "source": [
    "调用框架中现有的API来读取数据"
   ]
  },
  {
   "cell_type": "code",
   "execution_count": 72,
   "id": "c385b021",
   "metadata": {
    "execution": {
     "iopub.execute_input": "2022-12-07T16:40:08.268516Z",
     "iopub.status.busy": "2022-12-07T16:40:08.268231Z",
     "iopub.status.idle": "2022-12-07T16:40:08.278118Z",
     "shell.execute_reply": "2022-12-07T16:40:08.277341Z"
    },
    "origin_pos": 13,
    "tab": [
     "pytorch"
    ]
   },
   "outputs": [
    {
     "name": "stdout",
     "output_type": "stream",
     "text": [
      "<torch.utils.data.dataloader.DataLoader object at 0x7fc37155dfd0>\n"
     ]
    },
    {
     "data": {
      "text/plain": [
       "[tensor([[-0.4570,  0.3668],\n",
       "         [ 0.9301,  0.0657],\n",
       "         [ 0.2169,  0.0454],\n",
       "         [-0.4854, -0.7284],\n",
       "         [-2.5032, -1.0657],\n",
       "         [-1.5230, -1.2886],\n",
       "         [ 1.5051,  0.7477],\n",
       "         [-0.6498, -1.1087],\n",
       "         [ 0.2381,  0.4956],\n",
       "         [ 0.9326,  0.0248]]),\n",
       " tensor([[2.0292],\n",
       "         [5.8411],\n",
       "         [4.4802],\n",
       "         [5.6978],\n",
       "         [2.8180],\n",
       "         [5.5425],\n",
       "         [4.6669],\n",
       "         [6.6625],\n",
       "         [2.9962],\n",
       "         [5.9746]])]"
      ]
     },
     "execution_count": 72,
     "metadata": {},
     "output_type": "execute_result"
    }
   ],
   "source": [
    "def load_array(data_arrays, batch_size, is_train=True):  \n",
    "    \"\"\"构造一个PyTorch数据迭代器\"\"\"\n",
    "    dataset = data.TensorDataset(*data_arrays)\n",
    "    return data.DataLoader(dataset, batch_size, shuffle=is_train)\n",
    "\n",
    "batch_size = 10\n",
    "data_iter = load_array((features, labels), batch_size)\n",
    "print(data_iter)\n",
    "\n",
    "\n",
    "# 假设 data_iter 是一个迭代器对象\n",
    "'''\n",
    "for batch_features, batch_labels in data_iter:\n",
    "    print(\"Batch Features:\")\n",
    "    print(batch_features)\n",
    "    print(\"Batch Labels:\")\n",
    "    print(batch_labels)\n",
    "    break  # 仅打印第一个批次的数据\n",
    "'''\n",
    "next(iter(data_iter))"
   ]
  },
  {
   "attachments": {},
   "cell_type": "markdown",
   "id": "f86bcf80",
   "metadata": {},
   "source": []
  },
  {
   "attachments": {},
   "cell_type": "markdown",
   "id": "8d8c6f9e",
   "metadata": {
    "slideshow": {
     "slide_type": "slide"
    }
   },
   "source": [
    "使用框架的预定义好的层"
   ]
  },
  {
   "cell_type": "code",
   "execution_count": 73,
   "id": "13342bcf",
   "metadata": {
    "execution": {
     "iopub.execute_input": "2022-12-07T16:40:08.282230Z",
     "iopub.status.busy": "2022-12-07T16:40:08.281772Z",
     "iopub.status.idle": "2022-12-07T16:40:08.286290Z",
     "shell.execute_reply": "2022-12-07T16:40:08.285536Z"
    },
    "origin_pos": 20,
    "tab": [
     "pytorch"
    ]
   },
   "outputs": [],
   "source": [
    "from torch import nn\n",
    "\n",
    "net = nn.Sequential(nn.Linear(2, 1))#Sequential是一个存放神经网络层的容器"
   ]
  },
  {
   "attachments": {},
   "cell_type": "markdown",
   "id": "683f500e",
   "metadata": {
    "slideshow": {
     "slide_type": "-"
    }
   },
   "source": [
    "初始化模型参数\n",
    "normal(0,0.01)方差为0，均值为0.01"
   ]
  },
  {
   "cell_type": "code",
   "execution_count": 74,
   "id": "9ea9617d",
   "metadata": {
    "execution": {
     "iopub.execute_input": "2022-12-07T16:40:08.290171Z",
     "iopub.status.busy": "2022-12-07T16:40:08.289637Z",
     "iopub.status.idle": "2022-12-07T16:40:08.295641Z",
     "shell.execute_reply": "2022-12-07T16:40:08.294803Z"
    },
    "origin_pos": 29,
    "tab": [
     "pytorch"
    ]
   },
   "outputs": [
    {
     "data": {
      "text/plain": [
       "tensor([0.])"
      ]
     },
     "execution_count": 74,
     "metadata": {},
     "output_type": "execute_result"
    }
   ],
   "source": [
    "net[0].weight.data.normal_(0, 0.01)#第0层中权重的数据替换为正态分布\n",
    "net[0].bias.data.fill_(0)#偏差层的用权重用0替代"
   ]
  },
  {
   "attachments": {},
   "cell_type": "markdown",
   "id": "094da740",
   "metadata": {
    "slideshow": {
     "slide_type": "slide"
    }
   },
   "source": [
    "计算均方误差使用的是`MSELoss`类，也称为平方$L_2$范数"
   ]
  },
  {
   "cell_type": "code",
   "execution_count": 75,
   "id": "dae1e123",
   "metadata": {
    "execution": {
     "iopub.execute_input": "2022-12-07T16:40:08.299916Z",
     "iopub.status.busy": "2022-12-07T16:40:08.299231Z",
     "iopub.status.idle": "2022-12-07T16:40:08.303013Z",
     "shell.execute_reply": "2022-12-07T16:40:08.302224Z"
    },
    "origin_pos": 41,
    "tab": [
     "pytorch"
    ]
   },
   "outputs": [],
   "source": [
    "loss = nn.MSELoss()"
   ]
  },
  {
   "attachments": {},
   "cell_type": "markdown",
   "id": "2f414b3a",
   "metadata": {
    "slideshow": {
     "slide_type": "-"
    }
   },
   "source": [
    "实例化一个`SGD`实例"
   ]
  },
  {
   "cell_type": "code",
   "execution_count": 76,
   "id": "7e63bb44",
   "metadata": {
    "execution": {
     "iopub.execute_input": "2022-12-07T16:40:08.306740Z",
     "iopub.status.busy": "2022-12-07T16:40:08.306397Z",
     "iopub.status.idle": "2022-12-07T16:40:08.310518Z",
     "shell.execute_reply": "2022-12-07T16:40:08.309695Z"
    },
    "origin_pos": 50,
    "tab": [
     "pytorch"
    ]
   },
   "outputs": [],
   "source": [
    "trainer = torch.optim.SGD(net.parameters(), lr=0.03)\n",
    "#torch.optim.SGD属于torch中优化器用来调整模型的参数，lr学习率"
   ]
  },
  {
   "attachments": {},
   "cell_type": "markdown",
   "id": "81a54a2f",
   "metadata": {
    "slideshow": {
     "slide_type": "slide"
    }
   },
   "source": [
    "训练过程代码与我们从零开始实现时所做的非常相似"
   ]
  },
  {
   "cell_type": "code",
   "execution_count": 94,
   "id": "7c7e7f97",
   "metadata": {
    "execution": {
     "iopub.execute_input": "2022-12-07T16:40:08.314209Z",
     "iopub.status.busy": "2022-12-07T16:40:08.313925Z",
     "iopub.status.idle": "2022-12-07T16:40:08.475315Z",
     "shell.execute_reply": "2022-12-07T16:40:08.474324Z"
    },
    "origin_pos": 55,
    "tab": [
     "pytorch"
    ]
   },
   "outputs": [
    {
     "name": "stdout",
     "output_type": "stream",
     "text": [
      "epoch 1, loss 0.000109\n",
      "epoch 2, loss 0.000109\n",
      "epoch 3, loss 0.000109\n"
     ]
    }
   ],
   "source": [
    "num_epochs = 3\n",
    "for epoch in range(num_epochs):\n",
    "    for X, y in data_iter:\n",
    "        \n",
    "        l = loss(net(X) ,y)\n",
    "        # 将trainer.zero_grad()放在l.backward()之前，\n",
    "        # 可以确保在反向传播之前清零参数的梯度，\n",
    "        # 以实现独立的梯度计算。\n",
    "        trainer.zero_grad()\n",
    "        l.backward()\n",
    "        \n",
    "        trainer.step()\n",
    "    l = loss(net(features), labels)\n",
    "    print(f'epoch {epoch + 1}, loss {l:f}')"
   ]
  },
  {
   "attachments": {},
   "cell_type": "markdown",
   "id": "e5c44094",
   "metadata": {
    "slideshow": {
     "slide_type": "slide"
    }
   },
   "source": [
    "比较生成数据集的真实参数和通过有限数据训练获得的模型参数"
   ]
  },
  {
   "cell_type": "code",
   "execution_count": 78,
   "id": "cb0a1a73",
   "metadata": {
    "execution": {
     "iopub.execute_input": "2022-12-07T16:40:08.479279Z",
     "iopub.status.busy": "2022-12-07T16:40:08.478697Z",
     "iopub.status.idle": "2022-12-07T16:40:08.484928Z",
     "shell.execute_reply": "2022-12-07T16:40:08.484141Z"
    },
    "origin_pos": 60,
    "tab": [
     "pytorch"
    ]
   },
   "outputs": [
    {
     "name": "stdout",
     "output_type": "stream",
     "text": [
      "w的估计误差： tensor([-0.0005, -0.0010])\n",
      "b的估计误差： tensor([-0.0002])\n"
     ]
    }
   ],
   "source": [
    "w = net[0].weight.data\n",
    "print('w的估计误差：', true_w - w.reshape(true_w.shape))\n",
    "b = net[0].bias.data\n",
    "print('b的估计误差：', true_b - b)"
   ]
  }
 ],
 "metadata": {
  "celltoolbar": "Slideshow",
  "kernelspec": {
   "display_name": "d2l-zh",
   "language": "python",
   "name": "python3"
  },
  "language_info": {
   "codemirror_mode": {
    "name": "ipython",
    "version": 3
   },
   "file_extension": ".py",
   "mimetype": "text/x-python",
   "name": "python",
   "nbconvert_exporter": "python",
   "pygments_lexer": "ipython3",
   "version": "3.8.16"
  },
  "rise": {
   "autolaunch": true,
   "enable_chalkboard": true,
   "overlay": "<div class='my-top-right'><img height=80px src='http://d2l.ai/_static/logo-with-text.png'/></div><div class='my-top-left'></div>",
   "scroll": true
  }
 },
 "nbformat": 4,
 "nbformat_minor": 5
}
